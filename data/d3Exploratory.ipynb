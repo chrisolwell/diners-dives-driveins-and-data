{
 "cells": [
  {
   "cell_type": "code",
   "execution_count": 1,
   "metadata": {},
   "outputs": [],
   "source": [
    "import pandas as pd\n",
    "import datetime\n",
    "import numpy as np \n",
    "import os\n"
   ]
  },
  {
   "cell_type": "code",
   "execution_count": 7,
   "metadata": {},
   "outputs": [],
   "source": [
    "#create raw dataframe\n",
    "df_raw = os.path.join(\"df_raw.csv\")\n",
    "raw_df=pd.read_csv(df_raw)"
   ]
  },
  {
   "cell_type": "code",
   "execution_count": 10,
   "metadata": {},
   "outputs": [
    {
     "data": {
      "text/plain": [
       "season         int64\n",
       "episode       object\n",
       "title         object\n",
       "restaurant    object\n",
       "location      object\n",
       "air_date      object\n",
       "dtype: object"
      ]
     },
     "execution_count": 10,
     "metadata": {},
     "output_type": "execute_result"
    }
   ],
   "source": [
    "#view datatypes\n",
    "raw_df.dtypes"
   ]
  },
  {
   "cell_type": "code",
   "execution_count": 11,
   "metadata": {},
   "outputs": [
    {
     "data": {
      "text/plain": [
       "season        1251\n",
       "episode       1251\n",
       "title         1251\n",
       "restaurant    1251\n",
       "location      1251\n",
       "air_date      1233\n",
       "dtype: int64"
      ]
     },
     "execution_count": 11,
     "metadata": {},
     "output_type": "execute_result"
    }
   ],
   "source": [
    "#get counts\n",
    "raw_df.count()\n"
   ]
  },
  {
   "cell_type": "code",
   "execution_count": 13,
   "metadata": {},
   "outputs": [
    {
     "data": {
      "text/plain": [
       "season         0\n",
       "episode        0\n",
       "title          0\n",
       "restaurant     0\n",
       "location       0\n",
       "air_date      18\n",
       "dtype: int64"
      ]
     },
     "execution_count": 13,
     "metadata": {},
     "output_type": "execute_result"
    }
   ],
   "source": [
    "raw_df.isnull().sum()\n"
   ]
  },
  {
   "cell_type": "code",
   "execution_count": 34,
   "metadata": {},
   "outputs": [
    {
     "data": {
      "text/plain": [
       "array([\"Mac & Ernie's Roadside Eatery\", \"Brint's Diner\",\n",
       "       'The Mad Greek Cafe', ..., 'Tahini', 'Corduroy Pie Co.',\n",
       "       \"Luigi Vitrone's Pastabilities Trattoria\"], dtype=object)"
      ]
     },
     "execution_count": 34,
     "metadata": {},
     "output_type": "execute_result"
    }
   ],
   "source": [
    "#get unique restraunts \n",
    "names = raw_df.restaurant.unique()\n",
    "names\n"
   ]
  },
  {
   "cell_type": "code",
   "execution_count": 35,
   "metadata": {},
   "outputs": [
    {
     "ename": "AttributeError",
     "evalue": "'DataFrame' object has no attribute 'restaurants'",
     "output_type": "error",
     "traceback": [
      "\u001b[0;31m---------------------------------------------------------------------------\u001b[0m",
      "\u001b[0;31mAttributeError\u001b[0m                            Traceback (most recent call last)",
      "\u001b[0;32m/var/folders/_y/brxv75sj0tgb1tk949jp6prc0000gn/T/ipykernel_31140/55957388.py\u001b[0m in \u001b[0;36m<module>\u001b[0;34m\u001b[0m\n\u001b[0;32m----> 1\u001b[0;31m \u001b[0mraw_unique\u001b[0m \u001b[0;34m=\u001b[0m \u001b[0mraw_df\u001b[0m\u001b[0;34m.\u001b[0m\u001b[0mrestaurants\u001b[0m\u001b[0;34m.\u001b[0m\u001b[0mnunique\u001b[0m\u001b[0;34m(\u001b[0m\u001b[0;34m)\u001b[0m\u001b[0;34m\u001b[0m\u001b[0;34m\u001b[0m\u001b[0m\n\u001b[0m\u001b[1;32m      2\u001b[0m \u001b[0mraw_unique\u001b[0m\u001b[0;34m\u001b[0m\u001b[0;34m\u001b[0m\u001b[0m\n",
      "\u001b[0;32m~/opt/anaconda3/envs/PythonData/lib/python3.7/site-packages/pandas/core/generic.py\u001b[0m in \u001b[0;36m__getattr__\u001b[0;34m(self, name)\u001b[0m\n\u001b[1;32m   5485\u001b[0m         ):\n\u001b[1;32m   5486\u001b[0m             \u001b[0;32mreturn\u001b[0m \u001b[0mself\u001b[0m\u001b[0;34m[\u001b[0m\u001b[0mname\u001b[0m\u001b[0;34m]\u001b[0m\u001b[0;34m\u001b[0m\u001b[0;34m\u001b[0m\u001b[0m\n\u001b[0;32m-> 5487\u001b[0;31m         \u001b[0;32mreturn\u001b[0m \u001b[0mobject\u001b[0m\u001b[0;34m.\u001b[0m\u001b[0m__getattribute__\u001b[0m\u001b[0;34m(\u001b[0m\u001b[0mself\u001b[0m\u001b[0;34m,\u001b[0m \u001b[0mname\u001b[0m\u001b[0;34m)\u001b[0m\u001b[0;34m\u001b[0m\u001b[0;34m\u001b[0m\u001b[0m\n\u001b[0m\u001b[1;32m   5488\u001b[0m \u001b[0;34m\u001b[0m\u001b[0m\n\u001b[1;32m   5489\u001b[0m     \u001b[0;32mdef\u001b[0m \u001b[0m__setattr__\u001b[0m\u001b[0;34m(\u001b[0m\u001b[0mself\u001b[0m\u001b[0;34m,\u001b[0m \u001b[0mname\u001b[0m\u001b[0;34m:\u001b[0m \u001b[0mstr\u001b[0m\u001b[0;34m,\u001b[0m \u001b[0mvalue\u001b[0m\u001b[0;34m)\u001b[0m \u001b[0;34m->\u001b[0m \u001b[0;32mNone\u001b[0m\u001b[0;34m:\u001b[0m\u001b[0;34m\u001b[0m\u001b[0;34m\u001b[0m\u001b[0m\n",
      "\u001b[0;31mAttributeError\u001b[0m: 'DataFrame' object has no attribute 'restaurants'"
     ]
    }
   ],
   "source": [
    "raw_unique = raw_df.restaurants.nunique()\n",
    "raw_unique"
   ]
  },
  {
   "cell_type": "code",
   "execution_count": 24,
   "metadata": {},
   "outputs": [],
   "source": [
    "#create raw dataframe\n",
    "df_coor = os.path.join(\"df_coordinates.csv\")\n",
    "coor_df=pd.read_csv(df_coor)"
   ]
  },
  {
   "cell_type": "code",
   "execution_count": 25,
   "metadata": {},
   "outputs": [
    {
     "data": {
      "text/plain": [
       "season          int64\n",
       "episode        object\n",
       "title          object\n",
       "restaurant     object\n",
       "location       object\n",
       "air_date       object\n",
       "latitude      float64\n",
       "longitude     float64\n",
       "dtype: object"
      ]
     },
     "execution_count": 25,
     "metadata": {},
     "output_type": "execute_result"
    }
   ],
   "source": [
    "coor_df.dtypes"
   ]
  },
  {
   "cell_type": "code",
   "execution_count": 26,
   "metadata": {},
   "outputs": [
    {
     "data": {
      "text/plain": [
       "season        1251\n",
       "episode       1251\n",
       "title         1251\n",
       "restaurant    1251\n",
       "location      1251\n",
       "air_date      1233\n",
       "latitude      1251\n",
       "longitude     1251\n",
       "dtype: int64"
      ]
     },
     "execution_count": 26,
     "metadata": {},
     "output_type": "execute_result"
    }
   ],
   "source": [
    "coor_df.count()"
   ]
  },
  {
   "cell_type": "code",
   "execution_count": 27,
   "metadata": {},
   "outputs": [
    {
     "data": {
      "text/plain": [
       "array([\"Mac & Ernie's Roadside Eatery\", \"Brint's Diner\",\n",
       "       'The Mad Greek Cafe', ..., 'Tahini', 'Corduroy Pie Co.',\n",
       "       \"Luigi Vitrone's Pastabilities Trattoria\"], dtype=object)"
      ]
     },
     "execution_count": 27,
     "metadata": {},
     "output_type": "execute_result"
    }
   ],
   "source": [
    "#get unique restraunts \n",
    "coor_names = coor_df.restaurant.unique()\n",
    "coor_names"
   ]
  },
  {
   "cell_type": "code",
   "execution_count": 33,
   "metadata": {},
   "outputs": [
    {
     "data": {
      "text/plain": [
       "1162"
      ]
     },
     "execution_count": 33,
     "metadata": {},
     "output_type": "execute_result"
    }
   ],
   "source": [
    "coor_count = coor_df.restaurant.nunique()\n",
    "coor_count\n"
   ]
  },
  {
   "cell_type": "code",
   "execution_count": 36,
   "metadata": {},
   "outputs": [
    {
     "data": {
      "text/plain": [
       "1162"
      ]
     },
     "execution_count": 36,
     "metadata": {},
     "output_type": "execute_result"
    }
   ],
   "source": [
    "raw_count = raw_df.restaurant.nunique()\n",
    "raw_count"
   ]
  },
  {
   "cell_type": "code",
   "execution_count": 37,
   "metadata": {},
   "outputs": [],
   "source": [
    "#create yelp dataframe\n",
    "df_yelp = os.path.join(\"df_yelp.csv\")\n",
    "yelp_df=pd.read_csv(df_yelp)"
   ]
  },
  {
   "cell_type": "code",
   "execution_count": 38,
   "metadata": {},
   "outputs": [
    {
     "data": {
      "text/html": [
       "<div>\n",
       "<style scoped>\n",
       "    .dataframe tbody tr th:only-of-type {\n",
       "        vertical-align: middle;\n",
       "    }\n",
       "\n",
       "    .dataframe tbody tr th {\n",
       "        vertical-align: top;\n",
       "    }\n",
       "\n",
       "    .dataframe thead th {\n",
       "        text-align: right;\n",
       "    }\n",
       "</style>\n",
       "<table border=\"1\" class=\"dataframe\">\n",
       "  <thead>\n",
       "    <tr style=\"text-align: right;\">\n",
       "      <th></th>\n",
       "      <th>season</th>\n",
       "      <th>episode</th>\n",
       "      <th>title</th>\n",
       "      <th>restaurant</th>\n",
       "      <th>rating</th>\n",
       "      <th>price</th>\n",
       "      <th>city</th>\n",
       "      <th>state</th>\n",
       "    </tr>\n",
       "  </thead>\n",
       "  <tbody>\n",
       "    <tr>\n",
       "      <th>0</th>\n",
       "      <td>1</td>\n",
       "      <td>1</td>\n",
       "      <td>Classics</td>\n",
       "      <td>Mac &amp; Ernie's Roadside Eatery</td>\n",
       "      <td>4.0</td>\n",
       "      <td>$$</td>\n",
       "      <td>Tarpley</td>\n",
       "      <td>Texas</td>\n",
       "    </tr>\n",
       "    <tr>\n",
       "      <th>1</th>\n",
       "      <td>1</td>\n",
       "      <td>1</td>\n",
       "      <td>Classics</td>\n",
       "      <td>Brint's Diner</td>\n",
       "      <td>3.5</td>\n",
       "      <td>$</td>\n",
       "      <td>Wichita</td>\n",
       "      <td>Kansas</td>\n",
       "    </tr>\n",
       "    <tr>\n",
       "      <th>2</th>\n",
       "      <td>1</td>\n",
       "      <td>1</td>\n",
       "      <td>Classics</td>\n",
       "      <td>The Mad Greek Cafe</td>\n",
       "      <td>3.0</td>\n",
       "      <td>$$</td>\n",
       "      <td>Baker</td>\n",
       "      <td>California</td>\n",
       "    </tr>\n",
       "    <tr>\n",
       "      <th>3</th>\n",
       "      <td>1</td>\n",
       "      <td>2</td>\n",
       "      <td>That's Italian</td>\n",
       "      <td>Pizza Palace</td>\n",
       "      <td>4.0</td>\n",
       "      <td>$</td>\n",
       "      <td>Knoxville</td>\n",
       "      <td>Tennessee</td>\n",
       "    </tr>\n",
       "    <tr>\n",
       "      <th>4</th>\n",
       "      <td>1</td>\n",
       "      <td>2</td>\n",
       "      <td>That's Italian</td>\n",
       "      <td>Hullabaloo Diner</td>\n",
       "      <td>3.5</td>\n",
       "      <td>$$</td>\n",
       "      <td>Wellborn</td>\n",
       "      <td>Texas</td>\n",
       "    </tr>\n",
       "    <tr>\n",
       "      <th>...</th>\n",
       "      <td>...</td>\n",
       "      <td>...</td>\n",
       "      <td>...</td>\n",
       "      <td>...</td>\n",
       "      <td>...</td>\n",
       "      <td>...</td>\n",
       "      <td>...</td>\n",
       "      <td>...</td>\n",
       "    </tr>\n",
       "    <tr>\n",
       "      <th>1246</th>\n",
       "      <td>30</td>\n",
       "      <td>1</td>\n",
       "      <td>A World of Barbecue</td>\n",
       "      <td>Grand Ole BBQ</td>\n",
       "      <td>4.5</td>\n",
       "      <td>$$</td>\n",
       "      <td>San Diego</td>\n",
       "      <td>California</td>\n",
       "    </tr>\n",
       "    <tr>\n",
       "      <th>1247</th>\n",
       "      <td>30</td>\n",
       "      <td>1</td>\n",
       "      <td>A World of Barbecue</td>\n",
       "      <td>Locale BBQ Post</td>\n",
       "      <td>4.0</td>\n",
       "      <td>$$</td>\n",
       "      <td>Wilmington</td>\n",
       "      <td>Delaware</td>\n",
       "    </tr>\n",
       "    <tr>\n",
       "      <th>1248</th>\n",
       "      <td>30</td>\n",
       "      <td>2</td>\n",
       "      <td>Sausage, Shawarma and Scaloppini</td>\n",
       "      <td>Tahini</td>\n",
       "      <td>4.5</td>\n",
       "      <td>$</td>\n",
       "      <td>San Diego</td>\n",
       "      <td>California</td>\n",
       "    </tr>\n",
       "    <tr>\n",
       "      <th>1249</th>\n",
       "      <td>30</td>\n",
       "      <td>2</td>\n",
       "      <td>Sausage, Shawarma and Scaloppini</td>\n",
       "      <td>Corduroy Pie Co.</td>\n",
       "      <td>4.5</td>\n",
       "      <td>$$</td>\n",
       "      <td>Vancouver</td>\n",
       "      <td>British Columbia</td>\n",
       "    </tr>\n",
       "    <tr>\n",
       "      <th>1250</th>\n",
       "      <td>30</td>\n",
       "      <td>2</td>\n",
       "      <td>Sausage, Shawarma and Scaloppini</td>\n",
       "      <td>Luigi Vitrone's Pastabilities Trattoria</td>\n",
       "      <td>4.0</td>\n",
       "      <td>$$</td>\n",
       "      <td>Wilmington</td>\n",
       "      <td>Delaware</td>\n",
       "    </tr>\n",
       "  </tbody>\n",
       "</table>\n",
       "<p>1251 rows × 8 columns</p>\n",
       "</div>"
      ],
      "text/plain": [
       "      season episode                             title  \\\n",
       "0          1       1                          Classics   \n",
       "1          1       1                          Classics   \n",
       "2          1       1                          Classics   \n",
       "3          1       2                    That's Italian   \n",
       "4          1       2                    That's Italian   \n",
       "...      ...     ...                               ...   \n",
       "1246      30       1               A World of Barbecue   \n",
       "1247      30       1               A World of Barbecue   \n",
       "1248      30       2  Sausage, Shawarma and Scaloppini   \n",
       "1249      30       2  Sausage, Shawarma and Scaloppini   \n",
       "1250      30       2  Sausage, Shawarma and Scaloppini   \n",
       "\n",
       "                                   restaurant  rating price        city  \\\n",
       "0               Mac & Ernie's Roadside Eatery     4.0    $$     Tarpley   \n",
       "1                               Brint's Diner     3.5     $     Wichita   \n",
       "2                          The Mad Greek Cafe     3.0    $$       Baker   \n",
       "3                                Pizza Palace     4.0     $   Knoxville   \n",
       "4                            Hullabaloo Diner     3.5    $$    Wellborn   \n",
       "...                                       ...     ...   ...         ...   \n",
       "1246                            Grand Ole BBQ     4.5    $$   San Diego   \n",
       "1247                          Locale BBQ Post     4.0    $$  Wilmington   \n",
       "1248                                   Tahini     4.5     $   San Diego   \n",
       "1249                         Corduroy Pie Co.     4.5    $$   Vancouver   \n",
       "1250  Luigi Vitrone's Pastabilities Trattoria     4.0    $$  Wilmington   \n",
       "\n",
       "                 state  \n",
       "0                Texas  \n",
       "1               Kansas  \n",
       "2           California  \n",
       "3            Tennessee  \n",
       "4                Texas  \n",
       "...                ...  \n",
       "1246        California  \n",
       "1247          Delaware  \n",
       "1248        California  \n",
       "1249  British Columbia  \n",
       "1250          Delaware  \n",
       "\n",
       "[1251 rows x 8 columns]"
      ]
     },
     "execution_count": 38,
     "metadata": {},
     "output_type": "execute_result"
    }
   ],
   "source": [
    "yelp_df"
   ]
  },
  {
   "cell_type": "code",
   "execution_count": 40,
   "metadata": {},
   "outputs": [
    {
     "data": {
      "text/plain": [
       "1162"
      ]
     },
     "execution_count": 40,
     "metadata": {},
     "output_type": "execute_result"
    }
   ],
   "source": [
    "yelp_count = yelp_df.restaurant.nunique()\n",
    "yelp_count"
   ]
  },
  {
   "cell_type": "code",
   "execution_count": 41,
   "metadata": {},
   "outputs": [
    {
     "data": {
      "text/plain": [
       "<bound method IndexOpsMixin.nunique of 0                 Mac & Ernie's Roadside Eatery\n",
       "1                                 Brint's Diner\n",
       "2                            The Mad Greek Cafe\n",
       "3                                  Pizza Palace\n",
       "4                              Hullabaloo Diner\n",
       "                         ...                   \n",
       "1246                              Grand Ole BBQ\n",
       "1247                            Locale BBQ Post\n",
       "1248                                     Tahini\n",
       "1249                           Corduroy Pie Co.\n",
       "1250    Luigi Vitrone's Pastabilities Trattoria\n",
       "Name: restaurant, Length: 1251, dtype: object>"
      ]
     },
     "execution_count": 41,
     "metadata": {},
     "output_type": "execute_result"
    }
   ],
   "source": [
    "#Checking on something I found by accident\n",
    "yelp_count = yelp_df.restaurant.nunique\n",
    "yelp_count"
   ]
  },
  {
   "cell_type": "code",
   "execution_count": 43,
   "metadata": {},
   "outputs": [],
   "source": [
    "#create cloropleth dataframe\n",
    "df_choropleth = os.path.join(\"df_choropleth.csv\")\n",
    "choro_df=pd.read_csv(df_choropleth)"
   ]
  },
  {
   "cell_type": "code",
   "execution_count": 44,
   "metadata": {},
   "outputs": [
    {
     "data": {
      "text/plain": [
       "location             object\n",
       "latitude            float64\n",
       "longitude           float64\n",
       "place(s) visited     object\n",
       "dtype: object"
      ]
     },
     "execution_count": 44,
     "metadata": {},
     "output_type": "execute_result"
    }
   ],
   "source": [
    "#We don't need the choropleth file as far as I can tell\n",
    "choro_df.dtypes"
   ]
  },
  {
   "cell_type": "code",
   "execution_count": null,
   "metadata": {},
   "outputs": [],
   "source": []
  }
 ],
 "metadata": {
  "kernelspec": {
   "display_name": "PythonData",
   "language": "python",
   "name": "python3"
  },
  "language_info": {
   "codemirror_mode": {
    "name": "ipython",
    "version": 3
   },
   "file_extension": ".py",
   "mimetype": "text/x-python",
   "name": "python",
   "nbconvert_exporter": "python",
   "pygments_lexer": "ipython3",
   "version": "3.7.11"
  },
  "orig_nbformat": 4,
  "vscode": {
   "interpreter": {
    "hash": "363f1982d70943d75bd6632514b1b2743d6fc535afdb4b74e7bafad889c7b013"
   }
  }
 },
 "nbformat": 4,
 "nbformat_minor": 2
}
